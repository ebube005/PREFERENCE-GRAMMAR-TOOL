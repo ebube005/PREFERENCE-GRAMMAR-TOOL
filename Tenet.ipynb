{
  "nbformat": 4,
  "nbformat_minor": 0,
  "metadata": {
    "colab": {
      "provenance": [],
      "authorship_tag": "ABX9TyNgk8zlDq0B8x80age6jkBy",
      "include_colab_link": true
    },
    "kernelspec": {
      "name": "python3",
      "display_name": "Python 3"
    },
    "language_info": {
      "name": "python"
    }
  },
  "cells": [
    {
      "cell_type": "markdown",
      "metadata": {
        "id": "view-in-github",
        "colab_type": "text"
      },
      "source": [
        "<a href=\"https://colab.research.google.com/github/ebube005/PREFERENCE-GRAMMAR-TOOL/blob/main/Tenet.ipynb\" target=\"_parent\"><img src=\"https://colab.research.google.com/assets/colab-badge.svg\" alt=\"Open In Colab\"/></a>"
      ]
    },
    {
      "cell_type": "code",
      "execution_count": 11,
      "metadata": {
        "colab": {
          "base_uri": "https://localhost:8080/"
        },
        "id": "rbbiPIVwmTM5",
        "outputId": "494d4109-39cd-435a-fccc-d04e09352bf8"
      },
      "outputs": [
        {
          "output_type": "stream",
          "name": "stdout",
          "text": [
            "Requirement already satisfied: pymupdf in /usr/local/lib/python3.11/dist-packages (1.25.5)\n",
            "Requirement already satisfied: eng_to_ipa in /usr/local/lib/python3.11/dist-packages (0.0.2)\n",
            "Collecting panphon\n",
            "  Downloading panphon-0.21.2-py2.py3-none-any.whl.metadata (15 kB)\n",
            "Requirement already satisfied: setuptools in /usr/local/lib/python3.11/dist-packages (from panphon) (75.2.0)\n",
            "Collecting unicodecsv (from panphon)\n",
            "  Downloading unicodecsv-0.14.1.tar.gz (10 kB)\n",
            "  Preparing metadata (setup.py) ... \u001b[?25l\u001b[?25hdone\n",
            "Requirement already satisfied: PyYAML in /usr/local/lib/python3.11/dist-packages (from panphon) (6.0.2)\n",
            "Requirement already satisfied: regex in /usr/local/lib/python3.11/dist-packages (from panphon) (2024.11.6)\n",
            "Requirement already satisfied: numpy>=1.20.2 in /usr/local/lib/python3.11/dist-packages (from panphon) (2.0.2)\n",
            "Requirement already satisfied: editdistance in /usr/local/lib/python3.11/dist-packages (from panphon) (0.8.1)\n",
            "Collecting munkres (from panphon)\n",
            "  Downloading munkres-1.1.4-py2.py3-none-any.whl.metadata (980 bytes)\n",
            "Downloading panphon-0.21.2-py2.py3-none-any.whl (75 kB)\n",
            "\u001b[2K   \u001b[90m━━━━━━━━━━━━━━━━━━━━━━━━━━━━━━━━━━━━━━━━\u001b[0m \u001b[32m75.4/75.4 kB\u001b[0m \u001b[31m3.0 MB/s\u001b[0m eta \u001b[36m0:00:00\u001b[0m\n",
            "\u001b[?25hDownloading munkres-1.1.4-py2.py3-none-any.whl (7.0 kB)\n",
            "Building wheels for collected packages: unicodecsv\n",
            "  Building wheel for unicodecsv (setup.py) ... \u001b[?25l\u001b[?25hdone\n",
            "  Created wheel for unicodecsv: filename=unicodecsv-0.14.1-py3-none-any.whl size=10744 sha256=6f78c8a5915e9d93c96cabea35859e3cea4100c92a455f7618f85c5c29d89390\n",
            "  Stored in directory: /root/.cache/pip/wheels/ec/03/6f/d2e0162d94c0d451556fa43dd4d5531457245c34a36b41ef4a\n",
            "Successfully built unicodecsv\n",
            "Installing collected packages: unicodecsv, munkres, panphon\n",
            "Successfully installed munkres-1.1.4 panphon-0.21.2 unicodecsv-0.14.1\n"
          ]
        }
      ],
      "source": [
        "!pip install pymupdf\n",
        "!pip install eng_to_ipa\n",
        "!pip install panphon"
      ]
    },
    {
      "cell_type": "code",
      "source": [
        "import fitz\n",
        "import re\n",
        "import eng_to_ipa as ipa\n",
        "import panphon.distance\n"
      ],
      "metadata": {
        "id": "ejfUcGli8RfH"
      },
      "execution_count": 13,
      "outputs": []
    },
    {
      "cell_type": "code",
      "source": [
        "from google.colab import files\n",
        "uploaded = files.upload()"
      ],
      "metadata": {
        "colab": {
          "base_uri": "https://localhost:8080/",
          "height": 73
        },
        "id": "WgdZzbOQop4z",
        "outputId": "b24415de-adee-4a7b-d6a5-214d797db356"
      },
      "execution_count": 14,
      "outputs": [
        {
          "output_type": "display_data",
          "data": {
            "text/plain": [
              "<IPython.core.display.HTML object>"
            ],
            "text/html": [
              "\n",
              "     <input type=\"file\" id=\"files-cda8fbac-1d5d-4636-b78c-2a316f128ce1\" name=\"files[]\" multiple disabled\n",
              "        style=\"border:none\" />\n",
              "     <output id=\"result-cda8fbac-1d5d-4636-b78c-2a316f128ce1\">\n",
              "      Upload widget is only available when the cell has been executed in the\n",
              "      current browser session. Please rerun this cell to enable.\n",
              "      </output>\n",
              "      <script>// Copyright 2017 Google LLC\n",
              "//\n",
              "// Licensed under the Apache License, Version 2.0 (the \"License\");\n",
              "// you may not use this file except in compliance with the License.\n",
              "// You may obtain a copy of the License at\n",
              "//\n",
              "//      http://www.apache.org/licenses/LICENSE-2.0\n",
              "//\n",
              "// Unless required by applicable law or agreed to in writing, software\n",
              "// distributed under the License is distributed on an \"AS IS\" BASIS,\n",
              "// WITHOUT WARRANTIES OR CONDITIONS OF ANY KIND, either express or implied.\n",
              "// See the License for the specific language governing permissions and\n",
              "// limitations under the License.\n",
              "\n",
              "/**\n",
              " * @fileoverview Helpers for google.colab Python module.\n",
              " */\n",
              "(function(scope) {\n",
              "function span(text, styleAttributes = {}) {\n",
              "  const element = document.createElement('span');\n",
              "  element.textContent = text;\n",
              "  for (const key of Object.keys(styleAttributes)) {\n",
              "    element.style[key] = styleAttributes[key];\n",
              "  }\n",
              "  return element;\n",
              "}\n",
              "\n",
              "// Max number of bytes which will be uploaded at a time.\n",
              "const MAX_PAYLOAD_SIZE = 100 * 1024;\n",
              "\n",
              "function _uploadFiles(inputId, outputId) {\n",
              "  const steps = uploadFilesStep(inputId, outputId);\n",
              "  const outputElement = document.getElementById(outputId);\n",
              "  // Cache steps on the outputElement to make it available for the next call\n",
              "  // to uploadFilesContinue from Python.\n",
              "  outputElement.steps = steps;\n",
              "\n",
              "  return _uploadFilesContinue(outputId);\n",
              "}\n",
              "\n",
              "// This is roughly an async generator (not supported in the browser yet),\n",
              "// where there are multiple asynchronous steps and the Python side is going\n",
              "// to poll for completion of each step.\n",
              "// This uses a Promise to block the python side on completion of each step,\n",
              "// then passes the result of the previous step as the input to the next step.\n",
              "function _uploadFilesContinue(outputId) {\n",
              "  const outputElement = document.getElementById(outputId);\n",
              "  const steps = outputElement.steps;\n",
              "\n",
              "  const next = steps.next(outputElement.lastPromiseValue);\n",
              "  return Promise.resolve(next.value.promise).then((value) => {\n",
              "    // Cache the last promise value to make it available to the next\n",
              "    // step of the generator.\n",
              "    outputElement.lastPromiseValue = value;\n",
              "    return next.value.response;\n",
              "  });\n",
              "}\n",
              "\n",
              "/**\n",
              " * Generator function which is called between each async step of the upload\n",
              " * process.\n",
              " * @param {string} inputId Element ID of the input file picker element.\n",
              " * @param {string} outputId Element ID of the output display.\n",
              " * @return {!Iterable<!Object>} Iterable of next steps.\n",
              " */\n",
              "function* uploadFilesStep(inputId, outputId) {\n",
              "  const inputElement = document.getElementById(inputId);\n",
              "  inputElement.disabled = false;\n",
              "\n",
              "  const outputElement = document.getElementById(outputId);\n",
              "  outputElement.innerHTML = '';\n",
              "\n",
              "  const pickedPromise = new Promise((resolve) => {\n",
              "    inputElement.addEventListener('change', (e) => {\n",
              "      resolve(e.target.files);\n",
              "    });\n",
              "  });\n",
              "\n",
              "  const cancel = document.createElement('button');\n",
              "  inputElement.parentElement.appendChild(cancel);\n",
              "  cancel.textContent = 'Cancel upload';\n",
              "  const cancelPromise = new Promise((resolve) => {\n",
              "    cancel.onclick = () => {\n",
              "      resolve(null);\n",
              "    };\n",
              "  });\n",
              "\n",
              "  // Wait for the user to pick the files.\n",
              "  const files = yield {\n",
              "    promise: Promise.race([pickedPromise, cancelPromise]),\n",
              "    response: {\n",
              "      action: 'starting',\n",
              "    }\n",
              "  };\n",
              "\n",
              "  cancel.remove();\n",
              "\n",
              "  // Disable the input element since further picks are not allowed.\n",
              "  inputElement.disabled = true;\n",
              "\n",
              "  if (!files) {\n",
              "    return {\n",
              "      response: {\n",
              "        action: 'complete',\n",
              "      }\n",
              "    };\n",
              "  }\n",
              "\n",
              "  for (const file of files) {\n",
              "    const li = document.createElement('li');\n",
              "    li.append(span(file.name, {fontWeight: 'bold'}));\n",
              "    li.append(span(\n",
              "        `(${file.type || 'n/a'}) - ${file.size} bytes, ` +\n",
              "        `last modified: ${\n",
              "            file.lastModifiedDate ? file.lastModifiedDate.toLocaleDateString() :\n",
              "                                    'n/a'} - `));\n",
              "    const percent = span('0% done');\n",
              "    li.appendChild(percent);\n",
              "\n",
              "    outputElement.appendChild(li);\n",
              "\n",
              "    const fileDataPromise = new Promise((resolve) => {\n",
              "      const reader = new FileReader();\n",
              "      reader.onload = (e) => {\n",
              "        resolve(e.target.result);\n",
              "      };\n",
              "      reader.readAsArrayBuffer(file);\n",
              "    });\n",
              "    // Wait for the data to be ready.\n",
              "    let fileData = yield {\n",
              "      promise: fileDataPromise,\n",
              "      response: {\n",
              "        action: 'continue',\n",
              "      }\n",
              "    };\n",
              "\n",
              "    // Use a chunked sending to avoid message size limits. See b/62115660.\n",
              "    let position = 0;\n",
              "    do {\n",
              "      const length = Math.min(fileData.byteLength - position, MAX_PAYLOAD_SIZE);\n",
              "      const chunk = new Uint8Array(fileData, position, length);\n",
              "      position += length;\n",
              "\n",
              "      const base64 = btoa(String.fromCharCode.apply(null, chunk));\n",
              "      yield {\n",
              "        response: {\n",
              "          action: 'append',\n",
              "          file: file.name,\n",
              "          data: base64,\n",
              "        },\n",
              "      };\n",
              "\n",
              "      let percentDone = fileData.byteLength === 0 ?\n",
              "          100 :\n",
              "          Math.round((position / fileData.byteLength) * 100);\n",
              "      percent.textContent = `${percentDone}% done`;\n",
              "\n",
              "    } while (position < fileData.byteLength);\n",
              "  }\n",
              "\n",
              "  // All done.\n",
              "  yield {\n",
              "    response: {\n",
              "      action: 'complete',\n",
              "    }\n",
              "  };\n",
              "}\n",
              "\n",
              "scope.google = scope.google || {};\n",
              "scope.google.colab = scope.google.colab || {};\n",
              "scope.google.colab._files = {\n",
              "  _uploadFiles,\n",
              "  _uploadFilesContinue,\n",
              "};\n",
              "})(self);\n",
              "</script> "
            ]
          },
          "metadata": {}
        },
        {
          "output_type": "stream",
          "name": "stdout",
          "text": [
            "Saving PG input(2).pdf to PG input(2).pdf\n"
          ]
        }
      ]
    },
    {
      "cell_type": "code",
      "source": [
        "\n",
        "filename = list (uploaded.keys())[0]\n",
        "doc = fitz.open (filename)\n",
        "full_text =\" \"\n",
        "for page in doc:\n",
        "  full_text += page.get_text()\n",
        "print (full_text)"
      ],
      "metadata": {
        "colab": {
          "base_uri": "https://localhost:8080/"
        },
        "id": "K8wSP4hKpPrq",
        "outputId": "f70ab720-a87a-4256-b799-3b5e50173554"
      },
      "execution_count": 15,
      "outputs": [
        {
          "output_type": "stream",
          "name": "stdout",
          "text": [
            "   \n",
            " \n",
            "THINK \n",
            "  \n",
            "  \n",
            "  \n",
            "  \n",
            "  \n",
            "  \n",
            "  \n",
            "/siŋk/  \n",
            "  \n",
            "  \n",
            "  \n",
            "  \n",
            "  \n",
            "  \n",
            "/θiŋk/  \n",
            "  \n",
            "  \n",
            "  \n",
            "  \n",
            "  \n",
            "  \n",
            "/ziŋk/  \n",
            "  \n",
            "  \n",
            "  \n",
            "  \n",
            "  \n",
            "  \n",
            "/tiŋk/  \n",
            "  \n",
            "  \n",
            "  \n",
            "  \n",
            "  \n",
            "  \n",
            "\n"
          ]
        }
      ]
    },
    {
      "cell_type": "code",
      "source": [
        "\n",
        "def extract_ipa_words(text):\n",
        "  return re.findall(r\"/[^/]+/\",text)\n",
        "ipa_words = extract_ipa_words(full_text)\n",
        "for word in ipa_words:\n",
        "  print(word)\n",
        "\n",
        ""
      ],
      "metadata": {
        "colab": {
          "base_uri": "https://localhost:8080/"
        },
        "id": "0-bB1BwUp9hx",
        "outputId": "19cabe54-958f-427a-cf4b-9489403ef59f"
      },
      "execution_count": 16,
      "outputs": [
        {
          "output_type": "stream",
          "name": "stdout",
          "text": [
            "/siŋk/\n",
            "/θiŋk/\n",
            "/ziŋk/\n",
            "/tiŋk/\n"
          ]
        }
      ]
    },
    {
      "cell_type": "code",
      "source": [
        "from panphon.featuretable import FeatureTable\n",
        "ft = FeatureTable()\n",
        "print(ft.segments[:15])\n"
      ],
      "metadata": {
        "colab": {
          "base_uri": "https://localhost:8080/"
        },
        "id": "LQzoUGxauVVX",
        "outputId": "fa086a19-822c-48e9-db39-587c2d9e4964"
      },
      "execution_count": 26,
      "outputs": [
        {
          "output_type": "stream",
          "name": "stdout",
          "text": [
            "[('˩', <Segment [0syl, 0son, 0cons, 0cont, 0delrel, 0lat, 0nas, 0strid, 0voi, 0sg, 0cg, 0ant, 0cor, 0distr, 0lab, 0hi, 0lo, 0back, 0round, 0velaric, 0tense, 0long, -hitone, -hireg]>), ('˨', <Segment [0syl, 0son, 0cons, 0cont, 0delrel, 0lat, 0nas, 0strid, 0voi, 0sg, 0cg, 0ant, 0cor, 0distr, 0lab, 0hi, 0lo, 0back, 0round, 0velaric, 0tense, 0long, +hitone, -hireg]>), ('˧', <Segment [0syl, 0son, 0cons, 0cont, 0delrel, 0lat, 0nas, 0strid, 0voi, 0sg, 0cg, 0ant, 0cor, 0distr, 0lab, 0hi, 0lo, 0back, 0round, 0velaric, 0tense, 0long, 0hitone, 0hireg]>), ('˦', <Segment [0syl, 0son, 0cons, 0cont, 0delrel, 0lat, 0nas, 0strid, 0voi, 0sg, 0cg, 0ant, 0cor, 0distr, 0lab, 0hi, 0lo, 0back, 0round, 0velaric, 0tense, 0long, -hitone, +hireg]>), ('˥', <Segment [0syl, 0son, 0cons, 0cont, 0delrel, 0lat, 0nas, 0strid, 0voi, 0sg, 0cg, 0ant, 0cor, 0distr, 0lab, 0hi, 0lo, 0back, 0round, 0velaric, 0tense, 0long, +hitone, +hireg]>), ('˩ˤ', <Segment [0syl, 0son, 0cons, 0cont, 0delrel, 0lat, 0nas, 0strid, 0voi, 0sg, 0cg, 0ant, 0cor, 0distr, 0lab, 0hi, +lo, +back, 0round, 0velaric, 0tense, 0long, -hitone, -hireg]>), ('˨ˤ', <Segment [0syl, 0son, 0cons, 0cont, 0delrel, 0lat, 0nas, 0strid, 0voi, 0sg, 0cg, 0ant, 0cor, 0distr, 0lab, 0hi, +lo, +back, 0round, 0velaric, 0tense, 0long, +hitone, -hireg]>), ('˧ˤ', <Segment [0syl, 0son, 0cons, 0cont, 0delrel, 0lat, 0nas, 0strid, 0voi, 0sg, 0cg, 0ant, 0cor, 0distr, 0lab, 0hi, +lo, +back, 0round, 0velaric, 0tense, 0long, 0hitone, 0hireg]>), ('˦ˤ', <Segment [0syl, 0son, 0cons, 0cont, 0delrel, 0lat, 0nas, 0strid, 0voi, 0sg, 0cg, 0ant, 0cor, 0distr, 0lab, 0hi, +lo, +back, 0round, 0velaric, 0tense, 0long, -hitone, +hireg]>), ('˥ˤ', <Segment [0syl, 0son, 0cons, 0cont, 0delrel, 0lat, 0nas, 0strid, 0voi, 0sg, 0cg, 0ant, 0cor, 0distr, 0lab, 0hi, +lo, +back, 0round, 0velaric, 0tense, 0long, +hitone, +hireg]>), ('q', <Segment [-syl, -son, +cons, -cont, -delrel, -lat, -nas, -strid, -voi, -sg, -cg, -ant, -cor, 0distr, -lab, -hi, -lo, +back, -round, -velaric, 0tense, -long, 0hitone, 0hireg]>), ('q̟', <Segment [-syl, -son, +cons, -cont, -delrel, -lat, -nas, -strid, -voi, -sg, -cg, -ant, -cor, 0distr, -lab, -hi, -lo, +back, -round, -velaric, 0tense, -long, 0hitone, 0hireg]>), ('q̠', <Segment [-syl, -son, +cons, -cont, -delrel, -lat, -nas, -strid, -voi, -sg, -cg, -ant, -cor, 0distr, -lab, -hi, -lo, +back, -round, -velaric, 0tense, -long, 0hitone, 0hireg]>), ('ɢ', <Segment [-syl, -son, +cons, -cont, -delrel, -lat, -nas, -strid, +voi, -sg, -cg, -ant, -cor, 0distr, -lab, -hi, -lo, +back, -round, -velaric, 0tense, -long, 0hitone, 0hireg]>), ('ɢ̟', <Segment [-syl, -son, +cons, -cont, -delrel, -lat, -nas, -strid, +voi, -sg, -cg, -ant, -cor, 0distr, -lab, -hi, -lo, +back, -round, -velaric, 0tense, -long, 0hitone, 0hireg]>)]\n"
          ]
        }
      ]
    },
    {
      "cell_type": "code",
      "source": [
        "def panphon_international_acceptance (variance, standard):\n",
        "  v= variance.strip(\"/ \")\n",
        "  s= standard.strip(\"/ \")\n",
        "  dist = ft.feature_edit_distance(v,s)\n",
        "  max_len = max(len(v),len(s))\n",
        "  similarity = 1-(dist/max_len) if max_len > 0 else 0\n",
        "  similarity = max(0, min(1, similarity))\n",
        "  return similarity\n",
        "\n",
        "def evaluate_file_variants(target_)"
      ],
      "metadata": {
        "id": "jpkQKCvuE4UF"
      },
      "execution_count": 28,
      "outputs": []
    },
    {
      "cell_type": "code",
      "source": [],
      "metadata": {
        "id": "zPyMCYtnE_e6"
      },
      "execution_count": null,
      "outputs": []
    }
  ]
}